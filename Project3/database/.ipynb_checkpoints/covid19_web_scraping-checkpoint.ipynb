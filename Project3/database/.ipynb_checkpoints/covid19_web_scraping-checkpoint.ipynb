{
 "cells": [
  {
   "cell_type": "markdown",
   "id": "b3a09e39",
   "metadata": {},
   "source": [
    "## Web Scraping"
   ]
  },
  {
   "cell_type": "code",
   "execution_count": 1,
   "id": "5c4ba65e",
   "metadata": {},
   "outputs": [],
   "source": [
    "# load the packages\n",
    "from splinter import Browser\n",
    "import requests\n",
    "import os\n",
    "from bs4 import BeautifulSoup\n",
    "from webdriver_manager.chrome import ChromeDriverManager\n",
    "import pandas as pd"
   ]
  },
  {
   "cell_type": "markdown",
   "id": "41b4cdc4",
   "metadata": {},
   "source": [
    "## Covid-19 VS FLU Difference"
   ]
  },
  {
   "cell_type": "code",
   "execution_count": 2,
   "id": "30398e1b",
   "metadata": {},
   "outputs": [
    {
     "name": "stderr",
     "output_type": "stream",
     "text": [
      "[WDM] - Downloading: 100%|████████████████████████████████████████████████████████| 6.29M/6.29M [00:00<00:00, 19.6MB/s]\n"
     ]
    }
   ],
   "source": [
    "# set up splinter\n",
    "executable_path = {'executable_path': ChromeDriverManager().install()}\n",
    "browser = Browser('chrome', **executable_path, headless=False) # headless = True you will not see the browser"
   ]
  },
  {
   "cell_type": "code",
   "execution_count": 3,
   "id": "1f506656",
   "metadata": {},
   "outputs": [],
   "source": [
    "# visit the website using browser\n",
    "url = \"https://www.verywellhealth.com/coronavirus-flu-differences-4798752\"\n",
    "browser.visit(url)"
   ]
  },
  {
   "cell_type": "code",
   "execution_count": 4,
   "id": "1638880a",
   "metadata": {},
   "outputs": [],
   "source": [
    "html = browser.html\n",
    "soup = BeautifulSoup(html,'html.parser')\n",
    "# print(soup.prettify())"
   ]
  },
  {
   "cell_type": "code",
   "execution_count": 5,
   "id": "041780b1",
   "metadata": {},
   "outputs": [
    {
     "name": "stdout",
     "output_type": "stream",
     "text": [
      "\n",
      "Coronavirus (COVID-19) and the Flu: Similarities and Differences\n",
      "\n"
     ]
    }
   ],
   "source": [
    "# collect the difference_title \n",
    "difference_title = soup.find(\"h1\",class_=\"comp article-heading\").text\n",
    "print(difference_title)"
   ]
  },
  {
   "cell_type": "code",
   "execution_count": 6,
   "id": "98571102",
   "metadata": {},
   "outputs": [
    {
     "name": "stdout",
     "output_type": "stream",
     "text": [
      "https://www.verywellhealth.com/thmb/HM3pp_RB8LUBPa6rCUumdcmfDnA=/1500x0/filters:no_upscale():max_bytes(150000):strip_icc():format(webp)/coronavirus-flu-differences-4798752-v1-46194f3009ac4f3d80b4078fd180bbb7.png\n"
     ]
    }
   ],
   "source": [
    "# collect the flu and covid-19 picture \n",
    "difference_graph = soup.find(\"div\",class_=\"figure-media\").find(\"img\", class_=\"img--noscript\")[\"src\"]\n",
    "print(difference_graph)"
   ]
  },
  {
   "cell_type": "code",
   "execution_count": 7,
   "id": "aa395c7b",
   "metadata": {},
   "outputs": [],
   "source": [
    "# kill the browser\n",
    "browser.quit()"
   ]
  },
  {
   "cell_type": "markdown",
   "id": "a46d5012",
   "metadata": {},
   "source": [
    "## How can I avoid getting COVID-19 and the flu?"
   ]
  },
  {
   "cell_type": "code",
   "execution_count": null,
   "id": "dc984062",
   "metadata": {},
   "outputs": [],
   "source": [
    "# set up splinter\n",
    "executable_path = {'executable_path': ChromeDriverManager().install()}\n",
    "browser = Browser('chrome', **executable_path, headless=False) # headless = True you will not see the browser"
   ]
  },
  {
   "cell_type": "code",
   "execution_count": null,
   "id": "bf003fc5",
   "metadata": {},
   "outputs": [],
   "source": [
    "# visit the website using browser\n",
    "url2 = \"https://www.mayoclinic.org/diseases-conditions/coronavirus/in-depth/coronavirus-myths/art-20485720\"\n",
    "browser.visit(url2)"
   ]
  },
  {
   "cell_type": "code",
   "execution_count": null,
   "id": "ead17215",
   "metadata": {
    "scrolled": true
   },
   "outputs": [],
   "source": [
    "html2 = browser.html\n",
    "soup2 = BeautifulSoup(html2,'html.parser')\n",
    "# print(soup2.prettify())"
   ]
  },
  {
   "cell_type": "code",
   "execution_count": null,
   "id": "adbb6297",
   "metadata": {},
   "outputs": [],
   "source": [
    "# collect the title \n",
    "trt_title = soup2.find_all(\"h3\")[3].text\n",
    "print(trt_title)"
   ]
  },
  {
   "cell_type": "code",
   "execution_count": null,
   "id": "04d1c75d",
   "metadata": {},
   "outputs": [],
   "source": [
    "# collect the treatment\n",
    "treatment = []\n",
    "for i in range(10):\n",
    "    treatment.append(soup2.find_all(\"ul\")[-8].find_all(\"li\")[i].text)\n",
    "print(treatment)"
   ]
  },
  {
   "cell_type": "code",
   "execution_count": null,
   "id": "fafef65a",
   "metadata": {},
   "outputs": [],
   "source": [
    "# kill the browser\n",
    "browser.quit()"
   ]
  },
  {
   "cell_type": "markdown",
   "id": "5cf2ed8a",
   "metadata": {},
   "source": [
    "## X-Ray shows the effect of Covid-19 on the lungs"
   ]
  },
  {
   "cell_type": "code",
   "execution_count": null,
   "id": "c6c1bf26",
   "metadata": {},
   "outputs": [],
   "source": [
    "# set up splinter\n",
    "executable_path = {'executable_path': ChromeDriverManager().install()}\n",
    "browser = Browser('chrome', **executable_path, headless=False) # headless = True you will not see the browser"
   ]
  },
  {
   "cell_type": "code",
   "execution_count": null,
   "id": "2ea7cb69",
   "metadata": {},
   "outputs": [],
   "source": [
    "# visit the website using browser\n",
    "url3 = \"https://www.boredpanda.com/post-covid-lungs-coronavirus-brittany-kendall/?utm_source=bing&utm_medium=organic&utm_campaign=organic\"\n",
    "browser.visit(url3)"
   ]
  },
  {
   "cell_type": "code",
   "execution_count": null,
   "id": "f7385426",
   "metadata": {
    "scrolled": true
   },
   "outputs": [],
   "source": [
    "html3 = browser.html\n",
    "soup3 = BeautifulSoup(html3,'html.parser')\n",
    "#print(soup3.prettify())"
   ]
  },
  {
   "cell_type": "code",
   "execution_count": null,
   "id": "20054301",
   "metadata": {},
   "outputs": [],
   "source": [
    "# collect the title\n",
    "lung_big_title = soup3.find(\"h1\").text\n",
    "print(lung_big_title)"
   ]
  },
  {
   "cell_type": "code",
   "execution_count": null,
   "id": "7cbeec27",
   "metadata": {
    "scrolled": true
   },
   "outputs": [],
   "source": [
    "# collect graph title\n",
    "lung_title1 = soup3.find_all(\"h3\")[1].text\n",
    "print(lung_title1)"
   ]
  },
  {
   "cell_type": "code",
   "execution_count": null,
   "id": "b6a52fa8",
   "metadata": {},
   "outputs": [],
   "source": [
    "# collect the photo\n",
    "lung_photo1 = soup3.find(\"p\", id = \"3-60016276050a4__700\").find(\"img\")[\"src\"]\n",
    "print(lung_photo1)"
   ]
  },
  {
   "cell_type": "code",
   "execution_count": null,
   "id": "acb20c7b",
   "metadata": {
    "scrolled": true
   },
   "outputs": [],
   "source": [
    "# collect graph title\n",
    "lung_title2 = soup3.find_all(\"h3\")[2].text\n",
    "print(lung_title2)"
   ]
  },
  {
   "cell_type": "code",
   "execution_count": null,
   "id": "aebe7e39",
   "metadata": {},
   "outputs": [],
   "source": [
    "# collect the photo\n",
    "lung_photo2 = soup3.find(\"p\", id = \"4-600162776a2db__700\").find(\"img\")[\"src\"]\n",
    "print(lung_photo2)"
   ]
  },
  {
   "cell_type": "code",
   "execution_count": null,
   "id": "249ea09c",
   "metadata": {},
   "outputs": [],
   "source": [
    "# collect graph title\n",
    "lung_title3 = soup3.find_all(\"h3\")[3].text\n",
    "print(lung_title3)"
   ]
  },
  {
   "cell_type": "code",
   "execution_count": null,
   "id": "9304cbc2",
   "metadata": {},
   "outputs": [],
   "source": [
    "# collect the photo\n",
    "lung_photo3 = soup3.find(\"p\", id = \"post-covid-lungs-coronavirus-brittany-kendall-600169deefed1__700\").find(\"img\")[\"src\"]\n",
    "print(lung_photo3)"
   ]
  },
  {
   "cell_type": "code",
   "execution_count": null,
   "id": "990a4eff",
   "metadata": {},
   "outputs": [],
   "source": [
    "# kill the browser\n",
    "browser.quit()"
   ]
  },
  {
   "cell_type": "markdown",
   "id": "76136bf0",
   "metadata": {},
   "source": [
    "## Vaccine"
   ]
  },
  {
   "cell_type": "code",
   "execution_count": null,
   "id": "700a988e",
   "metadata": {},
   "outputs": [],
   "source": [
    "# set up splinter\n",
    "executable_path = {'executable_path': ChromeDriverManager().install()}\n",
    "browser = Browser('chrome', **executable_path, headless=False) # headless = True you will not see the browser"
   ]
  },
  {
   "cell_type": "code",
   "execution_count": null,
   "id": "1c707d8a",
   "metadata": {
    "scrolled": false
   },
   "outputs": [],
   "source": [
    "url4 = \"https://www.bing.com/search?q=covid%20vaccine%20data&qs=ds&form=QBRE\"\n",
    "browser.visit(url4)"
   ]
  },
  {
   "cell_type": "code",
   "execution_count": null,
   "id": "05b27592",
   "metadata": {},
   "outputs": [],
   "source": [
    "html4 = browser.html\n",
    "soup4 = BeautifulSoup(html4,'html.parser')\n",
    "# print(soup4.prettify())"
   ]
  },
  {
   "cell_type": "code",
   "execution_count": null,
   "id": "16216069",
   "metadata": {},
   "outputs": [],
   "source": [
    "# collect the vaccine title\n",
    "vaccine_title = soup4.find(\"h2\", class_=\"b_topTitle\").text\n",
    "print(vaccine_title)"
   ]
  },
  {
   "cell_type": "code",
   "execution_count": null,
   "id": "b4b13483",
   "metadata": {
    "scrolled": false
   },
   "outputs": [],
   "source": [
    "# United States Progress and Global Progress\n",
    "# dose adminstered\n",
    "dose_adminstered = []\n",
    "for i in range(3):\n",
    "    dose_adminstered.append(soup4.find_all(\"div\", class_ = \"cov_leg_grp cov_leg_dotGrp\")[i].find_all(\"div\")[1].find(\"div\").text)\n",
    "dose_adminstered.append(soup4.find_all(\"div\", class_ = \"cov_leg_grp\")[3].find(\"div\").text)\n",
    "print(dose_adminstered)"
   ]
  },
  {
   "cell_type": "code",
   "execution_count": null,
   "id": "3b1e358a",
   "metadata": {},
   "outputs": [],
   "source": [
    "dose_adminstered_number = []\n",
    "for i in range(6):\n",
    "    dose_adminstered_number.append(soup4.find_all(\"div\", class_ = \"cov_leg_grp cov_leg_dotGrp\")[i].find_all(\"div\")[1].find(\"div\", class_= \"cov_leg_val\").text)\n",
    "print(dose_adminstered_number)"
   ]
  },
  {
   "cell_type": "code",
   "execution_count": null,
   "id": "b22a4d98",
   "metadata": {},
   "outputs": [],
   "source": [
    "# collect us dose number \n",
    "us_dose_number = dose_adminstered_number[0:3]\n",
    "us_dose_number.append(soup4.find_all(\"div\", class_ = \"cov_leg_grp\")[3].find(\"div\", class_ = \"cov_leg_val\").text)\n",
    "print(us_dose_number)"
   ]
  },
  {
   "cell_type": "code",
   "execution_count": null,
   "id": "7e1a866d",
   "metadata": {},
   "outputs": [],
   "source": [
    "# collect global dose number \n",
    "global_dose_number = dose_adminstered_number[3:6]\n",
    "global_dose_number.append(soup4.find_all(\"div\", class_ = \"cov_leg_grp\")[-1].find(\"div\", class_ = \"cov_leg_val\").text)\n",
    "print(global_dose_number)"
   ]
  },
  {
   "cell_type": "code",
   "execution_count": null,
   "id": "2e94e1a9",
   "metadata": {},
   "outputs": [],
   "source": [
    "# dose_adminstered_number = []\n",
    "# for i in range(6):\n",
    "#     dose_adminstered.append(soup4.find_all(\"div\", class_ = \"cov_leg_grp cov_leg_dotGrp\")[i].find_all(\"div\")[1].find(\"div\").text)\n",
    "#     dose_adminstered_number.append(soup4.find_all(\"div\", class_ = \"cov_leg_grp cov_leg_dotGrp\")[i].find_all(\"div\")[1].find(\"div\", class_= \"cov_leg_val\").text)\n",
    "# print(dose_adminstered)\n",
    "# print(dose_adminstered_number)\n",
    "\n",
    "# us_dose_per_people = soup4.find_all(\"div\", class_ = \"cov_leg_grp\")[3].find(\"div\").text\n",
    "# us_dose_per_people_number = soup4.find_all(\"div\", class_ = \"cov_leg_grp\")[3].find(\"div\", class_ = \"cov_leg_val\").text\n",
    "# print(us_dose_per_people)\n",
    "# print(us_dose_per_people_number)\n",
    "\n",
    "# global_dose_per_people = soup4.find_all(\"div\", class_ = \"cov_leg_grp\")[-1].find(\"div\").text\n",
    "# global_dose_per_people_number = soup4.find_all(\"div\", class_ = \"cov_leg_grp\")[-1].find(\"div\", class_ = \"cov_leg_val\").text\n",
    "# print(global_dose_per_people)\n",
    "# print(global_dose_per_people_number)"
   ]
  },
  {
   "cell_type": "code",
   "execution_count": null,
   "id": "940abd24",
   "metadata": {},
   "outputs": [],
   "source": [
    "\n",
    "# soup4.find_all(\"div\",class_ = \"cov_cell\")[4].text\n",
    "# soup4.find_all(\"div\",class_ = \"cov_cell cov_right\")[0].text\n",
    "# soup4.find_all(\"div\",class_ = \"cov_cell cov_right\")[1].text\n",
    "# soup4.find_all(\"div\",class_ = \"cov_cell cov_right\")[2].text\n",
    "# soup4.find_all(\"div\",class_ = \"cov_cell cov_right\")[3].text\n",
    "# soup4.find_all(\"div\",class_ = \"cov_cell\")[0].text\n"
   ]
  },
  {
   "cell_type": "code",
   "execution_count": null,
   "id": "9efe9049",
   "metadata": {
    "scrolled": true
   },
   "outputs": [],
   "source": [
    "# us data \n",
    "location = []\n",
    "DOSE_1_ADMINISTERED = []\n",
    "DOSE_2_ADMINISTERED = []\n",
    "DOSES_PER_100_PEOPLE = []\n",
    "\n",
    "for i in range(57):\n",
    "    location.append(soup4.find_all(\"div\",class_ = \"cov_cell\")[i*4].text)\n",
    "    DOSE_1_ADMINISTERED.append(soup4.find_all(\"div\",class_ = \"cov_cell\")[i*4+1].text)\n",
    "    DOSE_2_ADMINISTERED.append(soup4.find_all(\"div\",class_ = \"cov_cell\")[i*4+2].text)\n",
    "    DOSES_PER_100_PEOPLE.append(soup4.find_all(\"div\",class_ = \"cov_cell\")[i*4+3].text)\n",
    "    \n",
    "print(len(location))\n",
    "print(len(DOSE_1_ADMINISTERED))\n",
    "print(len(DOSE_2_ADMINISTERED))\n",
    "print(len(DOSES_PER_100_PEOPLE))"
   ]
  },
  {
   "cell_type": "code",
   "execution_count": null,
   "id": "f900d9b7",
   "metadata": {
    "scrolled": true
   },
   "outputs": [],
   "source": [
    "# create the data frame\n",
    "dose_df = pd.DataFrame({\n",
    "    \"Location\":location,\n",
    "    \"Dose_1_Administered\":DOSE_1_ADMINISTERED,\n",
    "    \"Dose_2_Administered\":DOSE_2_ADMINISTERED,\n",
    "    \"Doses_Per_100_People\":DOSES_PER_100_PEOPLE})\n",
    "dose_df.head(20)\n"
   ]
  },
  {
   "cell_type": "code",
   "execution_count": null,
   "id": "1dd3c8bb",
   "metadata": {},
   "outputs": [],
   "source": [
    "# save the result\n",
    "dose_df.to_csv(\"dose.csv\", index = True, header = True)"
   ]
  },
  {
   "cell_type": "code",
   "execution_count": null,
   "id": "d0a1b5f7",
   "metadata": {},
   "outputs": [],
   "source": [
    "# kill the browser\n",
    "browser.quit()"
   ]
  }
 ],
 "metadata": {
  "kernelspec": {
   "display_name": "Python 3 (ipykernel)",
   "language": "python",
   "name": "python3"
  },
  "language_info": {
   "codemirror_mode": {
    "name": "ipython",
    "version": 3
   },
   "file_extension": ".py",
   "mimetype": "text/x-python",
   "name": "python",
   "nbconvert_exporter": "python",
   "pygments_lexer": "ipython3",
   "version": "3.9.12"
  }
 },
 "nbformat": 4,
 "nbformat_minor": 5
}
