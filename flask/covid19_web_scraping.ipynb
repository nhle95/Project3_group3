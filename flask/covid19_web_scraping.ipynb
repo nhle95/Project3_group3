{
 "cells": [
  {
   "cell_type": "markdown",
   "id": "b3a09e39",
   "metadata": {},
   "source": [
    "## Web Scraping"
   ]
  },
  {
   "cell_type": "code",
   "execution_count": 1,
   "id": "5c4ba65e",
   "metadata": {},
   "outputs": [],
   "source": [
    "# load the packages\n",
    "from splinter import Browser\n",
    "import requests\n",
    "import os\n",
    "from bs4 import BeautifulSoup\n",
    "from webdriver_manager.chrome import ChromeDriverManager\n",
    "import pandas as pd"
   ]
  },
  {
   "cell_type": "markdown",
   "id": "41b4cdc4",
   "metadata": {},
   "source": [
    "## Covid-19 VS FLU Difference"
   ]
  },
  {
   "cell_type": "code",
   "execution_count": 2,
   "id": "30398e1b",
   "metadata": {},
   "outputs": [],
   "source": [
    "# set up splinter\n",
    "executable_path = {'executable_path': ChromeDriverManager().install()}\n",
    "browser = Browser('chrome', **executable_path, headless=False) # headless = True you will not see the browser"
   ]
  },
  {
   "cell_type": "code",
   "execution_count": 3,
   "id": "1f506656",
   "metadata": {},
   "outputs": [],
   "source": [
    "# visit the website using browser\n",
    "url = \"https://www.verywellhealth.com/coronavirus-flu-differences-4798752\"\n",
    "browser.visit(url)"
   ]
  },
  {
   "cell_type": "code",
   "execution_count": 4,
   "id": "1638880a",
   "metadata": {},
   "outputs": [],
   "source": [
    "html = browser.html\n",
    "soup = BeautifulSoup(html,'html.parser')\n",
    "# print(soup.prettify())"
   ]
  },
  {
   "cell_type": "code",
   "execution_count": 5,
   "id": "041780b1",
   "metadata": {},
   "outputs": [
    {
     "name": "stdout",
     "output_type": "stream",
     "text": [
      "\n",
      "Coronavirus (COVID-19) and the Flu: Similarities and Differences\n",
      "\n"
     ]
    }
   ],
   "source": [
    "# collect the difference_title \n",
    "difference_title = soup.find(\"h1\",class_=\"comp article-heading\").text\n",
    "print(difference_title)"
   ]
  },
  {
   "cell_type": "code",
   "execution_count": 6,
   "id": "98571102",
   "metadata": {},
   "outputs": [
    {
     "name": "stdout",
     "output_type": "stream",
     "text": [
      "https://www.verywellhealth.com/thmb/HM3pp_RB8LUBPa6rCUumdcmfDnA=/1500x0/filters:no_upscale():max_bytes(150000):strip_icc():format(webp)/coronavirus-flu-differences-4798752-v1-46194f3009ac4f3d80b4078fd180bbb7.png\n"
     ]
    }
   ],
   "source": [
    "# collect the flu and covid-19 picture \n",
    "difference_graph = soup.find(\"div\",class_=\"figure-media\").find(\"img\", class_=\"img--noscript\")[\"src\"]\n",
    "print(difference_graph)"
   ]
  },
  {
   "cell_type": "code",
   "execution_count": 7,
   "id": "aa395c7b",
   "metadata": {},
   "outputs": [],
   "source": [
    "# kill the browser\n",
    "browser.quit()"
   ]
  },
  {
   "cell_type": "markdown",
   "id": "a46d5012",
   "metadata": {},
   "source": [
    "## How can I avoid getting COVID-19 and the flu?"
   ]
  },
  {
   "cell_type": "code",
   "execution_count": 8,
   "id": "dc984062",
   "metadata": {},
   "outputs": [],
   "source": [
    "# set up splinter\n",
    "executable_path = {'executable_path': ChromeDriverManager().install()}\n",
    "browser = Browser('chrome', **executable_path, headless=False) # headless = True you will not see the browser"
   ]
  },
  {
   "cell_type": "code",
   "execution_count": 19,
   "id": "bf003fc5",
   "metadata": {},
   "outputs": [],
   "source": [
    "# visit the website using browser\n",
    "url2 = \"https://www.mayoclinic.org/diseases-conditions/coronavirus/in-depth/coronavirus-myths/art-20485720\"\n",
    "browser.visit(url2)"
   ]
  },
  {
   "cell_type": "code",
   "execution_count": 13,
   "id": "ead17215",
   "metadata": {
    "scrolled": true
   },
   "outputs": [],
   "source": [
    "html2 = browser.html\n",
    "soup2 = BeautifulSoup(html2,'html.parser')\n",
    "# print(soup2.prettify())"
   ]
  },
  {
   "cell_type": "code",
   "execution_count": 22,
   "id": "adbb6297",
   "metadata": {},
   "outputs": [
    {
     "name": "stdout",
     "output_type": "stream",
     "text": [
      "Effective COVID-19 prevention tips\n"
     ]
    }
   ],
   "source": [
    "# collect the title \n",
    "trt_title = soup2.find_all(\"h3\")[3].text\n",
    "print(trt_title)"
   ]
  },
  {
   "cell_type": "code",
   "execution_count": 16,
   "id": "04d1c75d",
   "metadata": {},
   "outputs": [
    {
     "name": "stdout",
     "output_type": "stream",
     "text": [
      "['Avoid close contact with anyone who is sick or has symptoms.', \"Keep distance between yourself and others when you're in indoor public spaces if you're not fully vaccinated. This is especially important if you have a higher risk of serious illness. Keep in mind some people may have COVID-19 and spread it to others, even if they don't have symptoms or don't know they have COVID-19.\", 'Avoid crowds and indoor places that have poor air flow (ventilation).', 'Wash your hands often with soap and water for at least 20 seconds, or use an alcohol-based hand sanitizer that contains at least 60% alcohol.', \"Wear a face mask in indoor public spaces if you're in an area with a high number of people with COVID-19 in the hospital and new COVID-19 cases, whether or not you're vaccinated. The CDC recommends wearing the most protective mask possible that you'll wear regularly, fits well and is comfortable.\", 'Cover your mouth and nose with your elbow or a tissue when you cough or sneeze. Throw away the used tissue. Wash your hands right away.', 'Avoid touching your eyes, nose and mouth.', \"Avoid sharing dishes, glasses, bedding and other household items if you're sick.\", 'Clean and disinfect high-touch surfaces, such as doorknobs, light switches, electronics and counters, regularly.', \"Stay home from work, school and public areas and stay home in isolation if you're sick, unless you're going to get medical care. Avoid taking public transportation, taxis and ride-hailing services if you're sick.\"]\n"
     ]
    }
   ],
   "source": [
    "# collect the treatment\n",
    "treatment = []\n",
    "for i in range(10):\n",
    "    treatment.append(soup2.find_all(\"ul\")[-8].find_all(\"li\")[i].text)\n",
    "print(treatment)"
   ]
  },
  {
   "cell_type": "code",
   "execution_count": 76,
   "id": "fafef65a",
   "metadata": {},
   "outputs": [],
   "source": [
    "# kill the browser\n",
    "browser.quit()"
   ]
  },
  {
   "cell_type": "markdown",
   "id": "5cf2ed8a",
   "metadata": {},
   "source": [
    "## X-Ray shows the effect of Covid-19 on the lungs"
   ]
  },
  {
   "cell_type": "code",
   "execution_count": 2,
   "id": "c6c1bf26",
   "metadata": {},
   "outputs": [],
   "source": [
    "# set up splinter\n",
    "executable_path = {'executable_path': ChromeDriverManager().install()}\n",
    "browser = Browser('chrome', **executable_path, headless=False) # headless = True you will not see the browser"
   ]
  },
  {
   "cell_type": "code",
   "execution_count": 3,
   "id": "2ea7cb69",
   "metadata": {},
   "outputs": [],
   "source": [
    "# visit the website using browser\n",
    "url3 = \"https://www.boredpanda.com/post-covid-lungs-coronavirus-brittany-kendall/?utm_source=bing&utm_medium=organic&utm_campaign=organic\"\n",
    "browser.visit(url3)"
   ]
  },
  {
   "cell_type": "code",
   "execution_count": 4,
   "id": "f7385426",
   "metadata": {
    "scrolled": true
   },
   "outputs": [],
   "source": [
    "html3 = browser.html\n",
    "soup3 = BeautifulSoup(html3,'html.parser')\n",
    "#print(soup3.prettify())"
   ]
  },
  {
   "cell_type": "code",
   "execution_count": 7,
   "id": "20054301",
   "metadata": {},
   "outputs": [
    {
     "name": "stdout",
     "output_type": "stream",
     "text": [
      "X-Ray Shows The Effect Of COVID-19 On The Lungs Compared To A Smoker’s Lungs \n"
     ]
    }
   ],
   "source": [
    "# collect the title\n",
    "lung_big_title = soup3.find(\"h1\").text\n",
    "print(lung_big_title)"
   ]
  },
  {
   "cell_type": "code",
   "execution_count": 89,
   "id": "7cbeec27",
   "metadata": {
    "scrolled": true
   },
   "outputs": [
    {
     "name": "stdout",
     "output_type": "stream",
     "text": [
      "The lungs of a healthy patient appear to be clear as they have a lot of black space, indicating that a person can inhale a great deal of air\n"
     ]
    }
   ],
   "source": [
    "# collect graph title\n",
    "lung_title1 = soup3.find_all(\"h3\")[1].text\n",
    "print(lung_title1)"
   ]
  },
  {
   "cell_type": "code",
   "execution_count": 124,
   "id": "b6a52fa8",
   "metadata": {},
   "outputs": [
    {
     "name": "stdout",
     "output_type": "stream",
     "text": [
      "https://static.boredpanda.com/blog/wp-content/uploads/2021/01/3-60016276050a4__700.jpg\n"
     ]
    }
   ],
   "source": [
    "# collect the photo\n",
    "lung_photo1 = soup3.find(\"p\", id = \"3-60016276050a4__700\").find(\"img\")[\"src\"]\n",
    "print(lung_photo1)"
   ]
  },
  {
   "cell_type": "code",
   "execution_count": 90,
   "id": "acb20c7b",
   "metadata": {
    "scrolled": true
   },
   "outputs": [
    {
     "name": "stdout",
     "output_type": "stream",
     "text": [
      "Looking at the X-ray of a smoker’s lungs, you can notice some haziness indicating scarring and congestion\n"
     ]
    }
   ],
   "source": [
    "# collect graph title\n",
    "lung_title2 = soup3.find_all(\"h3\")[2].text\n",
    "print(lung_title2)"
   ]
  },
  {
   "cell_type": "code",
   "execution_count": 125,
   "id": "aebe7e39",
   "metadata": {},
   "outputs": [
    {
     "name": "stdout",
     "output_type": "stream",
     "text": [
      "https://static.boredpanda.com/blog/wp-content/uploads/2021/01/4-600162776a2db__700.jpg\n"
     ]
    }
   ],
   "source": [
    "# collect the photo\n",
    "lung_photo2 = soup3.find(\"p\", id = \"4-600162776a2db__700\").find(\"img\")[\"src\"]\n",
    "print(lung_photo2)"
   ]
  },
  {
   "cell_type": "code",
   "execution_count": 91,
   "id": "249ea09c",
   "metadata": {},
   "outputs": [
    {
     "name": "stdout",
     "output_type": "stream",
     "text": [
      "The third image shows post-COVID lungs which appear to be almost fully white, meaning the lungs are severely damaged\n"
     ]
    }
   ],
   "source": [
    "# collect graph title\n",
    "lung_title3 = soup3.find_all(\"h3\")[3].text\n",
    "print(lung_title3)"
   ]
  },
  {
   "cell_type": "code",
   "execution_count": 126,
   "id": "9304cbc2",
   "metadata": {},
   "outputs": [
    {
     "name": "stdout",
     "output_type": "stream",
     "text": [
      "https://static.boredpanda.com/blog/wp-content/uploads/2021/01/post-covid-lungs-coronavirus-brittany-kendall-600169deefed1__700.jpg\n"
     ]
    }
   ],
   "source": [
    "# collect the photo\n",
    "lung_photo3 = soup3.find(\"p\", id = \"post-covid-lungs-coronavirus-brittany-kendall-600169deefed1__700\").find(\"img\")[\"src\"]\n",
    "print(lung_photo3)"
   ]
  },
  {
   "cell_type": "code",
   "execution_count": 8,
   "id": "990a4eff",
   "metadata": {},
   "outputs": [],
   "source": [
    "# kill the browser\n",
    "browser.quit()"
   ]
  },
  {
   "cell_type": "markdown",
   "id": "76136bf0",
   "metadata": {},
   "source": [
    "## Vaccine"
   ]
  },
  {
   "cell_type": "code",
   "execution_count": 135,
   "id": "700a988e",
   "metadata": {},
   "outputs": [],
   "source": [
    "# set up splinter\n",
    "executable_path = {'executable_path': ChromeDriverManager().install()}\n",
    "browser = Browser('chrome', **executable_path, headless=False) # headless = True you will not see the browser"
   ]
  },
  {
   "cell_type": "code",
   "execution_count": 3,
   "id": "1c707d8a",
   "metadata": {
    "scrolled": false
   },
   "outputs": [],
   "source": [
    "url4 = \"https://www.bing.com/search?q=covid%20vaccine%20data&qs=ds&form=QBRE\"\n",
    "browser.visit(url4)"
   ]
  },
  {
   "cell_type": "code",
   "execution_count": 13,
   "id": "05b27592",
   "metadata": {},
   "outputs": [],
   "source": [
    "html4 = browser.html\n",
    "soup4 = BeautifulSoup(html4,'html.parser')\n",
    "# print(soup4.prettify())"
   ]
  },
  {
   "cell_type": "code",
   "execution_count": 28,
   "id": "16216069",
   "metadata": {},
   "outputs": [
    {
     "name": "stdout",
     "output_type": "stream",
     "text": [
      "Coronavirus (COVID-19) vaccines\n"
     ]
    }
   ],
   "source": [
    "# collect the vaccine title\n",
    "vaccine_title = soup4.find(\"h2\", class_=\"b_topTitle\").text\n",
    "print(vaccine_title)"
   ]
  },
  {
   "cell_type": "code",
   "execution_count": 22,
   "id": "b4b13483",
   "metadata": {
    "scrolled": false
   },
   "outputs": [
    {
     "name": "stdout",
     "output_type": "stream",
     "text": [
      "['2nd dose administered', '1st dose administered', 'Total population', 'Doses per 100 people']\n"
     ]
    }
   ],
   "source": [
    "# United States Progress and Global Progress\n",
    "# dose adminstered\n",
    "dose_adminstered = []\n",
    "for i in range(3):\n",
    "    dose_adminstered.append(soup4.find_all(\"div\", class_ = \"cov_leg_grp cov_leg_dotGrp\")[i].find_all(\"div\")[1].find(\"div\").text)\n",
    "dose_adminstered.append(soup4.find_all(\"div\", class_ = \"cov_leg_grp\")[3].find(\"div\").text)\n",
    "print(dose_adminstered)"
   ]
  },
  {
   "cell_type": "code",
   "execution_count": 29,
   "id": "3b1e358a",
   "metadata": {},
   "outputs": [
    {
     "name": "stdout",
     "output_type": "stream",
     "text": [
      "['217,246,546 (65.4%)', '266,401,911 (80.2%)', '332,008,832', '4,999,505,594 (63.7%)', '5,438,132,879 (69.3%)', '7,845,261,000']\n"
     ]
    }
   ],
   "source": [
    "dose_adminstered_number = []\n",
    "for i in range(6):\n",
    "    dose_adminstered_number.append(soup4.find_all(\"div\", class_ = \"cov_leg_grp cov_leg_dotGrp\")[i].find_all(\"div\")[1].find(\"div\", class_= \"cov_leg_val\").text)\n",
    "print(dose_adminstered_number)"
   ]
  },
  {
   "cell_type": "code",
   "execution_count": 40,
   "id": "b22a4d98",
   "metadata": {},
   "outputs": [
    {
     "name": "stdout",
     "output_type": "stream",
     "text": [
      "['217,246,546 (65.4%)', '266,401,911 (80.2%)', '332,008,832', '193.04']\n"
     ]
    }
   ],
   "source": [
    "# collect us dose number \n",
    "us_dose_number = dose_adminstered_number[0:3]\n",
    "us_dose_number.append(soup4.find_all(\"div\", class_ = \"cov_leg_grp\")[3].find(\"div\", class_ = \"cov_leg_val\").text)\n",
    "print(us_dose_number)"
   ]
  },
  {
   "cell_type": "code",
   "execution_count": 41,
   "id": "7e1a866d",
   "metadata": {},
   "outputs": [
    {
     "name": "stdout",
     "output_type": "stream",
     "text": [
      "['4,999,505,594 (63.7%)', '5,438,132,879 (69.3%)', '7,845,261,000', '164.57']\n"
     ]
    }
   ],
   "source": [
    "# collect global dose number \n",
    "global_dose_number = dose_adminstered_number[3:6]\n",
    "global_dose_number.append(soup4.find_all(\"div\", class_ = \"cov_leg_grp\")[-1].find(\"div\", class_ = \"cov_leg_val\").text)\n",
    "print(global_dose_number)"
   ]
  },
  {
   "cell_type": "code",
   "execution_count": 42,
   "id": "2e94e1a9",
   "metadata": {},
   "outputs": [],
   "source": [
    "# dose_adminstered_number = []\n",
    "# for i in range(6):\n",
    "#     dose_adminstered.append(soup4.find_all(\"div\", class_ = \"cov_leg_grp cov_leg_dotGrp\")[i].find_all(\"div\")[1].find(\"div\").text)\n",
    "#     dose_adminstered_number.append(soup4.find_all(\"div\", class_ = \"cov_leg_grp cov_leg_dotGrp\")[i].find_all(\"div\")[1].find(\"div\", class_= \"cov_leg_val\").text)\n",
    "# print(dose_adminstered)\n",
    "# print(dose_adminstered_number)\n",
    "\n",
    "# us_dose_per_people = soup4.find_all(\"div\", class_ = \"cov_leg_grp\")[3].find(\"div\").text\n",
    "# us_dose_per_people_number = soup4.find_all(\"div\", class_ = \"cov_leg_grp\")[3].find(\"div\", class_ = \"cov_leg_val\").text\n",
    "# print(us_dose_per_people)\n",
    "# print(us_dose_per_people_number)\n",
    "\n",
    "# global_dose_per_people = soup4.find_all(\"div\", class_ = \"cov_leg_grp\")[-1].find(\"div\").text\n",
    "# global_dose_per_people_number = soup4.find_all(\"div\", class_ = \"cov_leg_grp\")[-1].find(\"div\", class_ = \"cov_leg_val\").text\n",
    "# print(global_dose_per_people)\n",
    "# print(global_dose_per_people_number)"
   ]
  },
  {
   "cell_type": "code",
   "execution_count": 6,
   "id": "940abd24",
   "metadata": {},
   "outputs": [],
   "source": [
    "\n",
    "# soup4.find_all(\"div\",class_ = \"cov_cell\")[4].text\n",
    "# soup4.find_all(\"div\",class_ = \"cov_cell cov_right\")[0].text\n",
    "# soup4.find_all(\"div\",class_ = \"cov_cell cov_right\")[1].text\n",
    "# soup4.find_all(\"div\",class_ = \"cov_cell cov_right\")[2].text\n",
    "# soup4.find_all(\"div\",class_ = \"cov_cell cov_right\")[3].text\n",
    "# soup4.find_all(\"div\",class_ = \"cov_cell\")[0].text\n"
   ]
  },
  {
   "cell_type": "code",
   "execution_count": 45,
   "id": "9efe9049",
   "metadata": {
    "scrolled": true
   },
   "outputs": [
    {
     "name": "stdout",
     "output_type": "stream",
     "text": [
      "57\n",
      "57\n",
      "57\n",
      "57\n"
     ]
    }
   ],
   "source": [
    "# us data \n",
    "location = []\n",
    "DOSE_1_ADMINISTERED = []\n",
    "DOSE_2_ADMINISTERED = []\n",
    "DOSES_PER_100_PEOPLE = []\n",
    "\n",
    "for i in range(57):\n",
    "    location.append(soup4.find_all(\"div\",class_ = \"cov_cell\")[i*4].text)\n",
    "    DOSE_1_ADMINISTERED.append(soup4.find_all(\"div\",class_ = \"cov_cell\")[i*4+1].text)\n",
    "    DOSE_2_ADMINISTERED.append(soup4.find_all(\"div\",class_ = \"cov_cell\")[i*4+2].text)\n",
    "    DOSES_PER_100_PEOPLE.append(soup4.find_all(\"div\",class_ = \"cov_cell\")[i*4+3].text)\n",
    "    \n",
    "print(len(location))\n",
    "print(len(DOSE_1_ADMINISTERED))\n",
    "print(len(DOSE_2_ADMINISTERED))\n",
    "print(len(DOSES_PER_100_PEOPLE))"
   ]
  },
  {
   "cell_type": "code",
   "execution_count": 46,
   "id": "f900d9b7",
   "metadata": {
    "scrolled": true
   },
   "outputs": [
    {
     "data": {
      "text/html": [
       "<div>\n",
       "<style scoped>\n",
       "    .dataframe tbody tr th:only-of-type {\n",
       "        vertical-align: middle;\n",
       "    }\n",
       "\n",
       "    .dataframe tbody tr th {\n",
       "        vertical-align: top;\n",
       "    }\n",
       "\n",
       "    .dataframe thead th {\n",
       "        text-align: right;\n",
       "    }\n",
       "</style>\n",
       "<table border=\"1\" class=\"dataframe\">\n",
       "  <thead>\n",
       "    <tr style=\"text-align: right;\">\n",
       "      <th></th>\n",
       "      <th>Location</th>\n",
       "      <th>Dose_1_Administered</th>\n",
       "      <th>Dose_2_Administered</th>\n",
       "      <th>Doses_Per_100_People</th>\n",
       "    </tr>\n",
       "  </thead>\n",
       "  <tbody>\n",
       "    <tr>\n",
       "      <th>0</th>\n",
       "      <td>Location</td>\n",
       "      <td>Dose 1 Administered</td>\n",
       "      <td>Dose 2 Administered</td>\n",
       "      <td>Doses Per 100 People</td>\n",
       "    </tr>\n",
       "    <tr>\n",
       "      <th>1</th>\n",
       "      <td>Alabama</td>\n",
       "      <td>3,157,415 (64.4%)</td>\n",
       "      <td>2,464,644 (50.3%)</td>\n",
       "      <td>137.00</td>\n",
       "    </tr>\n",
       "    <tr>\n",
       "      <th>2</th>\n",
       "      <td>Alaska</td>\n",
       "      <td>528,402 (72.2%)</td>\n",
       "      <td>440,702 (60.2%)</td>\n",
       "      <td>173.56</td>\n",
       "    </tr>\n",
       "    <tr>\n",
       "      <th>3</th>\n",
       "      <td>American Samoa</td>\n",
       "      <td>45,985 (97.0%)</td>\n",
       "      <td>42,177 (89.0%)</td>\n",
       "      <td>241.78</td>\n",
       "    </tr>\n",
       "    <tr>\n",
       "      <th>4</th>\n",
       "      <td>Arizona</td>\n",
       "      <td>5,542,126 (76.1%)</td>\n",
       "      <td>4,535,261 (62.3%)</td>\n",
       "      <td>190.15</td>\n",
       "    </tr>\n",
       "    <tr>\n",
       "      <th>5</th>\n",
       "      <td>Arkansas</td>\n",
       "      <td>2,082,860 (69.0%)</td>\n",
       "      <td>1,619,991 (53.7%)</td>\n",
       "      <td>154.81</td>\n",
       "    </tr>\n",
       "    <tr>\n",
       "      <th>6</th>\n",
       "      <td>California</td>\n",
       "      <td>33,683,407 (85.2%)</td>\n",
       "      <td>28,288,738 (71.6%)</td>\n",
       "      <td>209.94</td>\n",
       "    </tr>\n",
       "    <tr>\n",
       "      <th>7</th>\n",
       "      <td>Colorado</td>\n",
       "      <td>4,755,725 (82.6%)</td>\n",
       "      <td>4,019,019 (69.8%)</td>\n",
       "      <td>213.19</td>\n",
       "    </tr>\n",
       "    <tr>\n",
       "      <th>8</th>\n",
       "      <td>Connecticut</td>\n",
       "      <td>3,574,567 (100.0%)</td>\n",
       "      <td>2,792,422 (78.3%)</td>\n",
       "      <td>240.53</td>\n",
       "    </tr>\n",
       "    <tr>\n",
       "      <th>9</th>\n",
       "      <td>Delaware</td>\n",
       "      <td>842,461 (86.5%)</td>\n",
       "      <td>667,972 (68.6%)</td>\n",
       "      <td>207.66</td>\n",
       "    </tr>\n",
       "    <tr>\n",
       "      <th>10</th>\n",
       "      <td>District of Columbia</td>\n",
       "      <td>777,417 (100.0%)</td>\n",
       "      <td>565,155 (80.1%)</td>\n",
       "      <td>260.56</td>\n",
       "    </tr>\n",
       "    <tr>\n",
       "      <th>11</th>\n",
       "      <td>Florida</td>\n",
       "      <td>17,528,535 (81.6%)</td>\n",
       "      <td>13,802,252 (64.3%)</td>\n",
       "      <td>189.43</td>\n",
       "    </tr>\n",
       "    <tr>\n",
       "      <th>12</th>\n",
       "      <td>Georgia</td>\n",
       "      <td>7,167,617 (67.5%)</td>\n",
       "      <td>5,796,758 (54.6%)</td>\n",
       "      <td>154.04</td>\n",
       "    </tr>\n",
       "    <tr>\n",
       "      <th>13</th>\n",
       "      <td>Guam</td>\n",
       "      <td>157,402 (93.4%)</td>\n",
       "      <td>135,161 (80.2%)</td>\n",
       "      <td>227.41</td>\n",
       "    </tr>\n",
       "    <tr>\n",
       "      <th>14</th>\n",
       "      <td>Hawaii</td>\n",
       "      <td>1,280,229 (90.4%)</td>\n",
       "      <td>1,108,377 (78.3%)</td>\n",
       "      <td>236.37</td>\n",
       "    </tr>\n",
       "    <tr>\n",
       "      <th>15</th>\n",
       "      <td>Idaho</td>\n",
       "      <td>1,129,423 (63.2%)</td>\n",
       "      <td>942,177 (52.7%)</td>\n",
       "      <td>153.46</td>\n",
       "    </tr>\n",
       "    <tr>\n",
       "      <th>16</th>\n",
       "      <td>Illinois</td>\n",
       "      <td>9,938,834 (78.4%)</td>\n",
       "      <td>8,618,844 (68.0%)</td>\n",
       "      <td>201.15</td>\n",
       "    </tr>\n",
       "    <tr>\n",
       "      <th>17</th>\n",
       "      <td>Indiana</td>\n",
       "      <td>4,288,871 (63.7%)</td>\n",
       "      <td>3,672,834 (54.6%)</td>\n",
       "      <td>158.09</td>\n",
       "    </tr>\n",
       "    <tr>\n",
       "      <th>18</th>\n",
       "      <td>Iowa</td>\n",
       "      <td>2,206,878 (69.9%)</td>\n",
       "      <td>1,913,708 (60.7%)</td>\n",
       "      <td>183.55</td>\n",
       "    </tr>\n",
       "    <tr>\n",
       "      <th>19</th>\n",
       "      <td>Kansas</td>\n",
       "      <td>2,190,186 (75.2%)</td>\n",
       "      <td>1,797,648 (61.7%)</td>\n",
       "      <td>175.13</td>\n",
       "    </tr>\n",
       "  </tbody>\n",
       "</table>\n",
       "</div>"
      ],
      "text/plain": [
       "                Location  Dose_1_Administered  Dose_2_Administered  \\\n",
       "0               Location  Dose 1 Administered  Dose 2 Administered   \n",
       "1                Alabama    3,157,415 (64.4%)    2,464,644 (50.3%)   \n",
       "2                 Alaska      528,402 (72.2%)      440,702 (60.2%)   \n",
       "3         American Samoa       45,985 (97.0%)       42,177 (89.0%)   \n",
       "4                Arizona    5,542,126 (76.1%)    4,535,261 (62.3%)   \n",
       "5               Arkansas    2,082,860 (69.0%)    1,619,991 (53.7%)   \n",
       "6             California   33,683,407 (85.2%)   28,288,738 (71.6%)   \n",
       "7               Colorado    4,755,725 (82.6%)    4,019,019 (69.8%)   \n",
       "8            Connecticut   3,574,567 (100.0%)    2,792,422 (78.3%)   \n",
       "9               Delaware      842,461 (86.5%)      667,972 (68.6%)   \n",
       "10  District of Columbia     777,417 (100.0%)      565,155 (80.1%)   \n",
       "11               Florida   17,528,535 (81.6%)   13,802,252 (64.3%)   \n",
       "12               Georgia    7,167,617 (67.5%)    5,796,758 (54.6%)   \n",
       "13                  Guam      157,402 (93.4%)      135,161 (80.2%)   \n",
       "14                Hawaii    1,280,229 (90.4%)    1,108,377 (78.3%)   \n",
       "15                 Idaho    1,129,423 (63.2%)      942,177 (52.7%)   \n",
       "16              Illinois    9,938,834 (78.4%)    8,618,844 (68.0%)   \n",
       "17               Indiana    4,288,871 (63.7%)    3,672,834 (54.6%)   \n",
       "18                  Iowa    2,206,878 (69.9%)    1,913,708 (60.7%)   \n",
       "19                Kansas    2,190,186 (75.2%)    1,797,648 (61.7%)   \n",
       "\n",
       "    Doses_Per_100_People  \n",
       "0   Doses Per 100 People  \n",
       "1                 137.00  \n",
       "2                 173.56  \n",
       "3                 241.78  \n",
       "4                 190.15  \n",
       "5                 154.81  \n",
       "6                 209.94  \n",
       "7                 213.19  \n",
       "8                 240.53  \n",
       "9                 207.66  \n",
       "10                260.56  \n",
       "11                189.43  \n",
       "12                154.04  \n",
       "13                227.41  \n",
       "14                236.37  \n",
       "15                153.46  \n",
       "16                201.15  \n",
       "17                158.09  \n",
       "18                183.55  \n",
       "19                175.13  "
      ]
     },
     "execution_count": 46,
     "metadata": {},
     "output_type": "execute_result"
    }
   ],
   "source": [
    "# create the data frame\n",
    "dose_df = pd.DataFrame({\n",
    "    \"Location\":location,\n",
    "    \"Dose_1_Administered\":DOSE_1_ADMINISTERED,\n",
    "    \"Dose_2_Administered\":DOSE_2_ADMINISTERED,\n",
    "    \"Doses_Per_100_People\":DOSES_PER_100_PEOPLE})\n",
    "dose_df.head(20)\n"
   ]
  },
  {
   "cell_type": "code",
   "execution_count": 47,
   "id": "1dd3c8bb",
   "metadata": {},
   "outputs": [],
   "source": [
    "# save the result\n",
    "#dose_df.to_csv(\"dose.csv\", index = True, header = True)"
   ]
  },
  {
   "cell_type": "code",
   "execution_count": 48,
   "id": "d0a1b5f7",
   "metadata": {},
   "outputs": [],
   "source": [
    "# kill the browser\n",
    "browser.quit()"
   ]
  }
 ],
 "metadata": {
  "kernelspec": {
   "display_name": "Python 3 (ipykernel)",
   "language": "python",
   "name": "python3"
  },
  "language_info": {
   "codemirror_mode": {
    "name": "ipython",
    "version": 3
   },
   "file_extension": ".py",
   "mimetype": "text/x-python",
   "name": "python",
   "nbconvert_exporter": "python",
   "pygments_lexer": "ipython3",
   "version": "3.9.12"
  }
 },
 "nbformat": 4,
 "nbformat_minor": 5
}
